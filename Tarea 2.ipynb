{
 "cells": [
  {
   "cell_type": "markdown",
   "id": "ddeda849",
   "metadata": {},
   "source": [
    "Problema 1"
   ]
  },
  {
   "cell_type": "code",
   "execution_count": 5,
   "id": "f6842fa9",
   "metadata": {},
   "outputs": [],
   "source": [
    "def Catalan(ind,ant):\n",
    "    if ind == 0:\n",
    "        c = 1\n",
    "    else:\n",
    "        c = ant * (4 * ind - 2)/(ind + 1)\n",
    "    return int(c)"
   ]
  },
  {
   "cell_type": "code",
   "execution_count": 8,
   "id": "1e73a08f",
   "metadata": {},
   "outputs": [
    {
     "name": "stdout",
     "output_type": "stream",
     "text": [
      "1\n",
      "1\n",
      "2\n",
      "5\n",
      "14\n",
      "42\n",
      "132\n",
      "429\n",
      "1430\n",
      "4862\n",
      "16796\n",
      "58786\n",
      "208012\n",
      "742900\n",
      "2674440\n",
      "9694845\n",
      "35357670\n",
      "129644790\n",
      "477638700\n"
     ]
    }
   ],
   "source": [
    "i = 0\n",
    "cat = Catalan(i,0)\n",
    "while cat <= 1e9:\n",
    "    print(cat)\n",
    "    i += 1\n",
    "    cat = Catalan(i,cat)"
   ]
  },
  {
   "cell_type": "markdown",
   "id": "89dbf970",
   "metadata": {},
   "source": [
    "Problema 2"
   ]
  },
  {
   "cell_type": "code",
   "execution_count": 38,
   "id": "48f0de6a",
   "metadata": {},
   "outputs": [],
   "source": [
    "import numpy as np"
   ]
  },
  {
   "cell_type": "code",
   "execution_count": 42,
   "id": "a425f4fe",
   "metadata": {},
   "outputs": [],
   "source": [
    "def Potencias(i,j,k):\n",
    "    if i == 0 and j == 0 and k == 0 :\n",
    "        V = 0\n",
    "    else:\n",
    "        V = 1/ np.sqrt(i**2 + j**2 + k**2)\n",
    "    if (i + j + k)%2 == 1:\n",
    "        V = -1 * V\n",
    "    return V"
   ]
  },
  {
   "cell_type": "code",
   "execution_count": 50,
   "id": "e55fecb5",
   "metadata": {},
   "outputs": [
    {
     "name": "stdout",
     "output_type": "stream",
     "text": [
      "-1.7446850421707383\n"
     ]
    }
   ],
   "source": [
    "L = 200\n",
    "M = 0\n",
    "for i in range(-1 * L, L + 1):\n",
    "    for j in range(-1 * L, L + 1):\n",
    "        for k in range(-1 * L, L + 1):\n",
    "            M = M + Potencias(i,j,k)\n",
    "print(M)"
   ]
  },
  {
   "cell_type": "markdown",
   "id": "38c765fd",
   "metadata": {},
   "source": [
    "Problema 3"
   ]
  },
  {
   "cell_type": "code",
   "execution_count": 72,
   "id": "0139eaaf",
   "metadata": {},
   "outputs": [],
   "source": [
    "def factorial(n):\n",
    "    if n == 0:\n",
    "        return 1\n",
    "    else:\n",
    "        return n * factorial(n - 1)\n",
    "    \n",
    "def binomial(n,k):\n",
    "    if n >= k:\n",
    "        b = factorial(n) \n",
    "        b = b / factorial(k)\n",
    "        b = b / factorial(n - k)\n",
    "        b = int(b)\n",
    "        return b\n",
    "    \n",
    "def probabilidad(k,n):\n",
    "    p = binomial(n,k)\n",
    "    p = p / (2**n)\n",
    "    return p"
   ]
  },
  {
   "cell_type": "code",
   "execution_count": 70,
   "id": "9d7947cc",
   "metadata": {},
   "outputs": [
    {
     "name": "stdout",
     "output_type": "stream",
     "text": [
      "1 \n",
      "1 1 \n",
      "1 2 1 \n",
      "1 3 3 1 \n",
      "1 4 6 4 1 \n",
      "1 5 10 10 5 1 \n",
      "1 6 15 20 15 6 1 \n",
      "1 7 21 35 35 21 7 1 \n",
      "1 8 28 56 70 56 28 8 1 \n",
      "1 9 36 84 126 126 84 36 9 1 \n",
      "1 10 45 120 210 252 210 120 45 10 1 \n",
      "1 11 55 165 330 462 462 330 165 55 11 1 \n",
      "1 12 66 220 495 792 924 792 495 220 66 12 1 \n",
      "1 13 78 286 715 1287 1716 1716 1287 715 286 78 13 1 \n",
      "1 14 91 364 1001 2002 3003 3432 3003 2002 1001 364 91 14 1 \n",
      "1 15 105 455 1365 3003 5005 6435 6435 5005 3003 1365 455 105 15 1 \n",
      "1 16 120 560 1820 4368 8008 11440 12870 11440 8008 4368 1820 560 120 16 1 \n",
      "1 17 136 680 2380 6188 12376 19448 24310 24310 19448 12376 6188 2380 680 136 17 1 \n",
      "1 18 153 816 3060 8568 18564 31824 43758 48620 43758 31824 18564 8568 3060 816 153 18 1 \n",
      "1 19 171 969 3876 11628 27132 50388 75582 92378 92378 75582 50388 27132 11628 3876 969 171 19 1 \n"
     ]
    }
   ],
   "source": [
    "for i in range(20):\n",
    "    for j in range(i + 1):\n",
    "        print(binomial(i,j), end = \" \")\n",
    "    print(\"\")"
   ]
  },
  {
   "cell_type": "code",
   "execution_count": 74,
   "id": "3a8b9137",
   "metadata": {},
   "outputs": [
    {
     "name": "stdout",
     "output_type": "stream",
     "text": [
      "0.010843866711637989\n",
      "0.02844396682049039\n"
     ]
    }
   ],
   "source": [
    "print (probabilidad(60,100))\n",
    "p = 0\n",
    "for i in range(60,101):\n",
    "    p = p + probabilidad(i,100)\n",
    "print(p)"
   ]
  },
  {
   "cell_type": "code",
   "execution_count": null,
   "id": "92e26201",
   "metadata": {},
   "outputs": [],
   "source": []
  }
 ],
 "metadata": {
  "kernelspec": {
   "display_name": "Python 3 (ipykernel)",
   "language": "python",
   "name": "python3"
  },
  "language_info": {
   "codemirror_mode": {
    "name": "ipython",
    "version": 3
   },
   "file_extension": ".py",
   "mimetype": "text/x-python",
   "name": "python",
   "nbconvert_exporter": "python",
   "pygments_lexer": "ipython3",
   "version": "3.9.13"
  }
 },
 "nbformat": 4,
 "nbformat_minor": 5
}
