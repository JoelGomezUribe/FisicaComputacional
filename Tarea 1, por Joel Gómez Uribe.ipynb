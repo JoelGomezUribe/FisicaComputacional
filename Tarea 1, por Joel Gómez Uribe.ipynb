{
 "cells": [
  {
   "cell_type": "markdown",
   "metadata": {},
   "source": [
    "<h1 align=\"center\">Física Computacional.</h1>\n",
    "<h1 align=\"center\">Semestre 2014-1</h1>\n",
    "\n",
    "### Realizada por Joel Gómez Uribe"
   ]
  },
  {
   "cell_type": "markdown",
   "metadata": {},
   "source": [
    "<h1 align=\"center\">Programación para la física computacional</h1> \n",
    "\n",
    "## Práctica 1.  Programación para la física computacional\n",
    "\n",
    "\n",
    "### Programación básica para la física\n",
    "\n",
    "---"
   ]
  },
  {
   "cell_type": "markdown",
   "metadata": {},
   "source": [
    "### EJERCICIOS:\n",
    "\n",
    "**1. Caida de una pelota desde una torre:** Se deja caer una pelota desde una torre de altura $h$. Tiene velocidad inicial cero y acelera hacia abajo con la gravedad. \n",
    "\n",
    "    Escribe un programa que le pida al usuario que ingrese la altura en metros de la torre y luego calcule e imprima el tiempo en segundos hasta que la pelota toque el suelo (ignora la resistencia del aire). \n",
    "    \n",
    "    Despues, usa tu programa para calcular el tiempo de una pelota lanzada desde una torre de 100 m de altura.\n",
    "\n"
   ]
  },
  {
   "cell_type": "code",
   "execution_count": 1,
   "metadata": {},
   "outputs": [],
   "source": [
    "# Importamos la libreria numpy ya que se utiliaran raices cuadradas\n",
    "import numpy as np"
   ]
  },
  {
   "cell_type": "code",
   "execution_count": 2,
   "metadata": {},
   "outputs": [],
   "source": [
    "# Definimos una función para calcular el tiempo que tarda en caer con g = 9.81 m/s, tomando en cuenta la altura en metros\n",
    "def tiempo(altura):\n",
    "    return np.sqrt(altura/4.905)"
   ]
  },
  {
   "cell_type": "code",
   "execution_count": 3,
   "metadata": {},
   "outputs": [
    {
     "name": "stdout",
     "output_type": "stream",
     "text": [
      "Ingrese la altura que tiene la pelota al momento de la caida en metros 50\n",
      "El tiempo que tardo en llegar la pelota al suelo es de 3.19 segundos\n",
      "Y el tiempo que tarda en llegar una pelota con una altura inicial de 100 m al suelo es de 4.52 segundos\n"
     ]
    }
   ],
   "source": [
    "# Le pedimos al usuario ingresar la altura inicial\n",
    "h = input(\"Ingrese la altura que tiene la pelota al momento de la caida en metros \")\n",
    "# Comprobamos que el usuario haya ingresado un numero, en otro caso da un mensage\n",
    "try: \n",
    "    # Muestra el tiempo que tarda desde la altura del usuario\n",
    "    print(\"El tiempo que tardo en llegar la pelota al suelo es de %.2f segundos\" %(tiempo(float(h))))\n",
    "    # Muestra el tiempo que tarda desde una altura de 100 metros\n",
    "    print(\"Y el tiempo que tarda en llegar una pelota con una altura inicial de 100 m al suelo es de %.2f segundos\" %(tiempo(100)))\n",
    "except:\n",
    "    print(\"El valor ingresado no es un numero\")"
   ]
  },
  {
   "cell_type": "markdown",
   "metadata": {},
   "source": [
    "\n",
    "**2. Altitud de un satélite**: se va a lanzar un satélite en una órbita circular alrededor de la Tierra de modo que orbite el planeta una vez cada $T$ segundos."
   ]
  },
  {
   "cell_type": "markdown",
   "metadata": {},
   "source": [
    "(a) Demuestre que la altitud $h$ sobre la superficie de la Tierra que debe tener el satélite es:\n",
    "\n",
    "<h3 align=\"center\">$h = \\biggl( {GMT^2\\over4\\pi^2} \\biggr)^{1/3} - R$,</h3> \n",
    "\n",
    "donde $G = 6,67 × 10^{−11} m^3 kg^{−1}s^{−2}$ es la constante gravitatoria de Newton, $M = 5,97 ×\n",
    "1024 kg$ es la masa de la Tierra, y $R = 6371 km$ es su radio.\n",
    "\n",
    "\n"
   ]
  },
  {
   "cell_type": "markdown",
   "metadata": {},
   "source": [
    "<i>Respuesta:</i> <br>\n",
    "Dado que el satelite va a orbitar en una trayectoria circular, la energía potencial gravitatoria que depende de una fuerza central, se mantiene constante ya que la distancia al centro de la tierra no varia, entonces:\n",
    "<h4 align=\"center\"> $E_U = - \\frac{2GMm}{r}$ </h4>\n",
    "donde $m$ es la masa del satelite, y $r$ es la distancia del satelite al centro de la tierra ($r = R + h$).\n",
    "\n",
    "Y la energía cinetica del satelite depende de la velocidad, la cual esta dada por el tiempo que tarda en realizar la orbita circular con diametro $2D$, por lo tanto:\n",
    "<h4 align=\"center\"> $E_k = \\frac{m}{2} \\left( \\frac{4 \\pi r}{T} \\right)^2 = \\frac{8 \\pi^2 m r^2}{T^2} $ </h4>\n",
    "\n",
    "\n",
    "Y usando el principio de concervación de energía, definiendo la energía mecanica del sistema como 0, se tiene que: \n",
    "<h4 align=\"center\"> $E_k = - E_U \\quad \\Rightarrow \\quad \\frac{8 \\pi^2 m r^2}{T^2} = \\frac{2GMm}{r} \\quad \\Rightarrow \\quad r^3 = \\frac{G M T^2}{4 \\pi^2} \\quad \\Rightarrow \\quad r = h + R = \\sqrt[3]{ \\frac{G M T^2}{4 \\pi^2}}$ </h4>\n",
    "<h4 align=\"center\"> $ \\therefore \\, h = \\sqrt[3]{ \\frac{G M T^2}{4 \\pi^2}} - R$ </h4>"
   ]
  },
  {
   "cell_type": "markdown",
   "metadata": {},
   "source": [
    "(b) Escribe un programa que le pida al usuario que ingrese el valor deseado de $T$ y luego calcule\n",
    "e imprima la altura correcta en metros.\n"
   ]
  },
  {
   "cell_type": "code",
   "execution_count": 4,
   "metadata": {},
   "outputs": [],
   "source": [
    "# Importa el numero pi\n",
    "from math import pi"
   ]
  },
  {
   "cell_type": "code",
   "execution_count": 5,
   "metadata": {},
   "outputs": [],
   "source": [
    "# Define una función para calcular la altura del satelite tomando en cuenta el periodo en segundos\n",
    "def altura(Periodo):\n",
    "    # Define las constantes y regresa el calculo\n",
    "    G = 6.67e-11\n",
    "    M = 5.97e24\n",
    "    R = 6371*1000\n",
    "    return ((G * M * Periodo**2/(4 * pi**2))**(1/3) - R)"
   ]
  },
  {
   "cell_type": "code",
   "execution_count": 6,
   "metadata": {},
   "outputs": [
    {
     "name": "stdout",
     "output_type": "stream",
     "text": [
      "Ingrese el periodo que se desea tenga la orbita del satelite (en segundos) 10000\n",
      "La altura a la que debe de orbitar el satelite es 3657750.10 metros\n"
     ]
    }
   ],
   "source": [
    "# Le pedimos al usuario ingresar el periodo de la orbita en segundos\n",
    "T = input(\"Ingrese el periodo que se desea tenga la orbita del satelite (en segundos) \")\n",
    "# Comprobamos que el usuario haya ingresado un numero, en otro caso da un mensage\n",
    "try: \n",
    "    # Muestra la altura a la que debe de estar el satelite para tener el periodo ingresado por el usuario\n",
    "    print(\"La altura a la que debe de orbitar el satelite es %.2f metros\" %(altura(float(T))))\n",
    "except:\n",
    "    print(\"El valor ingresado no es un numero\")"
   ]
  },
  {
   "cell_type": "markdown",
   "metadata": {},
   "source": [
    "(c) Utiliza tu programa para calcular las altitudes de los satélites que orbitan la Tierra una vez al día (la llamada *órbita \"geosincrónica\"*), una vez cada **90 minutos** y una vez cada **45 minutos**. \n",
    "¿Qué concluyes del último de estos cálculos?"
   ]
  },
  {
   "cell_type": "code",
   "execution_count": 7,
   "metadata": {},
   "outputs": [
    {
     "name": "stdout",
     "output_type": "stream",
     "text": [
      "La altura a la que debe de orbitar el satelite con peroido de 24 horas es de 35855910.18 metros\n",
      "La altura a la que debe de orbitar el satelite con peroido de 90 minutos es de 279321.63 metros\n",
      "La altura a la que debe de orbitar el satelite con peroido de 45 minutos es de -2181559.90 metros\n"
     ]
    }
   ],
   "source": [
    "# Muestra la altura a la que debe de estar el satelite para tener el periodo de un día (24 horas x 60 minutos x 60 segundos)\n",
    "print(\"La altura a la que debe de orbitar el satelite con peroido de 24 horas es de %.2f metros\" %(altura(24*60*60)))\n",
    "# Muestra la altura a la que debe de estar el satelite para tener el periodo de 90 minutos (90 minutos x 60 segundos)\n",
    "print(\"La altura a la que debe de orbitar el satelite con peroido de 90 minutos es de %.2f metros\" %(altura(90*60)))\n",
    "# Muestra la altura a la que debe de estar el satelite para tener el periodo de 60 minutos (60 minutos x 60 segundos)\n",
    "print(\"La altura a la que debe de orbitar el satelite con peroido de 45 minutos es de %.2f metros\" %(altura(45*60)))"
   ]
  },
  {
   "cell_type": "markdown",
   "metadata": {},
   "source": [
    "Lo que se puede concluir es que no se puede tener un satelite orbitando con un periodo de una hora o menor, ya que estaria a una altura negativa, esntonces orbitaria poor debajo de la superficie de la tierra y esto es imposible. <br>\n",
    "Tambien el periodo minimo para que una orpita sea posible se puede obtener igualando a 0 la ecuación obtenida y despejando $T$, y este limite esta entre los 60 y 90 minutos."
   ]
  },
  {
   "cell_type": "markdown",
   "metadata": {},
   "source": [
    "**3. Relatividad especial:** Una nave espacial viaja desde la Tierra en línea recta a una velocidad relativista $v$ a otro planeta a $x$ años luz de distancia.\n",
    "\n",
    " Escribe un programa que le pida al usuario el valor de $x$ y la velocidad $v$ como una fracción de la velocidad de la luz $c$, y que imprima el tiempo en años que tarda la nave espacial en llegar a su destino"
   ]
  },
  {
   "cell_type": "markdown",
   "metadata": {},
   "source": [
    "a) en el marco de reposo de un observador en la Tierra y"
   ]
  },
  {
   "cell_type": "code",
   "execution_count": 8,
   "metadata": {},
   "outputs": [],
   "source": [
    "# Define una función para calcular los años que tarda en realizar el viaje\n",
    "def tiempoViaje(x,v):\n",
    "    return (x/v)"
   ]
  },
  {
   "cell_type": "code",
   "execution_count": 9,
   "metadata": {},
   "outputs": [
    {
     "name": "stdout",
     "output_type": "stream",
     "text": [
      "Ingrese los años luz que separan el planeta de la tierra 10\n",
      "Ingrese la relación que tiene la velocidad de la nave con respecto a la velocidad de la luz .5\n",
      "El tiempo que tardo en llegar la nave al otro planeta para un observador en la tierra es de 20.00 años\n"
     ]
    }
   ],
   "source": [
    "# Le pedimos al usuario ingresar la distancia del planeta y la velocidad de la nave\n",
    "Distancia = input(\"Ingrese los años luz que separan el planeta de la tierra \")\n",
    "Velocidad = input(\"Ingrese la relación que tiene la velocidad de la nave con respecto a la velocidad de la luz \")\n",
    "# Comprobamos que el usuario haya ingresado un numero, en otro caso da un mensage\n",
    "try: \n",
    "    Distancia = float(Distancia)\n",
    "    Velocidad = float(Velocidad)\n",
    "    Tiempo = tiempoViaje(Distancia,Velocidad)\n",
    "    # Muestra el tiempo que tarda en llegar la nave\n",
    "    print(\"El tiempo que tardo en llegar la nave al otro planeta para un observador en la tierra es de %.2f años\" %Tiempo)\n",
    "except:\n",
    "    print(\"El valor ingresado no es un numero\")"
   ]
  },
  {
   "cell_type": "markdown",
   "metadata": {},
   "source": [
    "b) como lo percibiría un pasajero a bordo de la nave."
   ]
  },
  {
   "cell_type": "code",
   "execution_count": 10,
   "metadata": {},
   "outputs": [],
   "source": [
    "# Define una función para calcular el tiempo transcurrido para un observador diferente\n",
    "def dilatacion(x,t,v):\n",
    "    gamma = (1 + v**2)**(-1/2)\n",
    "    return (gamma*(t - v*x))"
   ]
  },
  {
   "cell_type": "code",
   "execution_count": 11,
   "metadata": {},
   "outputs": [
    {
     "name": "stdout",
     "output_type": "stream",
     "text": [
      "El tiempo que tardo en llegar la nave al otro planeta para un observador en la nave es de 13.42 años\n"
     ]
    }
   ],
   "source": [
    "# Comprobamos que el usuario haya ingresado una velocidad valida\n",
    "if Velocidad < 1: \n",
    "    # Muestra el tiempo que tarda en llegar la nave\n",
    "    print(\"El tiempo que tardo en llegar la nave al otro planeta para un observador en la nave es de %.2f años\" %(dilatacion(Distancia,Tiempo,Velocidad)))\n",
    "else:\n",
    "    print(\"La velocidad de la nave tiene que ser menor a la velocidad de la luz\")"
   ]
  },
  {
   "cell_type": "markdown",
   "metadata": {},
   "source": [
    "Usa tu programa para calcular las respuestas para un planeta a 10 años luz de distancia con $v = 0.99c$"
   ]
  },
  {
   "cell_type": "code",
   "execution_count": 12,
   "metadata": {},
   "outputs": [],
   "source": [
    "# Se calculan ambos tiempos para estas condiciones\n",
    "TiempoFijoTierra = tiempoViaje(10,0.99)\n",
    "TiempoFijoNave = dilatacion(10,TiempoFijoTierra,0.99)"
   ]
  },
  {
   "cell_type": "code",
   "execution_count": 13,
   "metadata": {},
   "outputs": [
    {
     "name": "stdout",
     "output_type": "stream",
     "text": [
      "El tiempo que tardo en llegar la nave al otro planeta para un observador en la tierra es de 10.10 años\n",
      "El tiempo que tardo en llegar la nave al otro planeta para un observador en la nave es de 0.14 años\n"
     ]
    }
   ],
   "source": [
    "print(\"El tiempo que tardo en llegar la nave al otro planeta para un observador en la tierra es de %.2f años\" %TiempoFijoTierra)\n",
    "print(\"El tiempo que tardo en llegar la nave al otro planeta para un observador en la nave es de %.2f años\" %TiempoFijoNave)"
   ]
  },
  {
   "cell_type": "markdown",
   "metadata": {},
   "source": [
    "**4. Órbitas planetarias:** En el espacio, la órbita de un cuerpo alrededor de otro (como un planeta alrededor del Sol), no necesariamente es circular. En general, toma la forma de una elipse, con el cuerpo a veces más cerca y otras más lejos. Si tenemos la distancia $\\ell_1$ de máxima aproximación de un planeta al Sol (su *perihelio*), y su velocidad lineal $v_1$ en el perihelio, entonces cualquier otra propiedad de la órbita se puede calcular a partir de estas dos cantidades de la siguiente manera:"
   ]
  },
  {
   "cell_type": "markdown",
   "metadata": {},
   "source": [
    "**a)** La segunda ley de Kepler nos dice que la distancia $\\ell_2$ y la velocidad $v_2$ del planeta en su punto más distante, o *afelio*, satisfacen que $\\ell_2 v_2 = \\ell_1 v_1$.  Al mismo tiempo, la energía total, cinética más la gravitatoria, de un planeta con velocidad $v$ y distancia $r$ del Sol está dada por:\n",
    "\n",
    "<h3 align=\"center\">$E = \\frac{1}{2} m v^2 - G {mM\\over r}$,</h3>\n",
    "        \n",
    "donde $m$ es la masa del planeta, $M=1.9891\\times10^{30}\\,$kg es la masa del Sol y $G=6.6738\\times10^{-11}\\,\\mathrm{m^3\\,kg^{-1}\\,s^{-2}}$ es la constante gravitatoria de Newton. Dado que la energía debe conservarse, demuestre que $v_2$ es la raíz más pequeña de la ecuación cuadrática:\n",
    "\n",
    "<h3 align=\"center\">$v_2^2 - {2GM\\over v_1\\ell_1} v_2 - \\biggl[ v_1^2 - {2GM\\over\\ell_1} \\biggr] = 0$.</h3>\n",
    "\n",
    "Una vez que tenemos $v_2$ podemos calcular $\\ell_2$  usando la relación $\\ell_2 = \\ell_1 v_1/v_2$."
   ]
  },
  {
   "cell_type": "markdown",
   "metadata": {},
   "source": [
    "**b)** Dados los valores de $v_1$, $\\ell_1$, y $\\ell_2$; otros parámetros de la órbita se obtienen mediante fórmulas simples que pueden derivarse de las leyes de Kepler y del hecho de que la órbita es una elipse:\n",
    "\n",
    "<h4 align=\"center\">Semieje mayor: $\\; \\; \\; a = \\frac{1}{2}(\\ell_1+\\ell_2)$,</h4>\n",
    "\n",
    "<h4 align=\"center\">Semieje menor: $\\; \\; \\; b = \\sqrt{\\ell_1\\ell_2}$,</h4>\n",
    "\n",
    "<h4 align=\"center\">Período orbital: $\\; \\; \\; T = {2\\pi ab\\over\\ell_1 v_1}$,</h4>\n",
    "\n",
    "<h4 align=\"center\">Excentricidad orbital: $\\; \\; \\; e = {\\ell_2-\\ell_1\\over\\ell_2+\\ell_1}$.</h4>\n",
    "\n",
    "Escribe un programa que le pida al usuario que ingrese la distancia al Sol y la velocidad en el perihelio; para que calcule e imprima las cantidades:\n",
    "\n",
    "$\\ell_2$, $v_2$, $T$ y $e$."
   ]
  },
  {
   "cell_type": "code",
   "execution_count": 14,
   "metadata": {},
   "outputs": [],
   "source": [
    "def raizMenor(a,b,c):\n",
    "    disc = b**2 - 4*c*a\n",
    "    raiz = np.sqrt(disc)\n",
    "    return ((-1*b - raiz)/(2*a))\n",
    "def velAfelio(l1,v1):\n",
    "    G = 6.6738e-11\n",
    "    M = 1.9891e30\n",
    "    return(raizMenor(1,-2*G*M/(v1*l1),-1*(v1**2 - 2*G*M/l1)))\n",
    "def distAfelio(v2,l1,v1):\n",
    "    return(l1*v1/v2)\n",
    "def Periodo(l1,v1,l2):\n",
    "    a = (l1 + l2)/2\n",
    "    b = np.sqrt(l1*l2)\n",
    "    return (2*pi*a*b/(l1*v1))\n",
    "def excentricidad(l1,l2):\n",
    "    return((l2 - l1)/(l2 + l1))"
   ]
  },
  {
   "cell_type": "code",
   "execution_count": 15,
   "metadata": {},
   "outputs": [
    {
     "name": "stdout",
     "output_type": "stream",
     "text": [
      "Dame la distancia al sol del perihelio en metros 1e10\n",
      "Dame la velocidad linear del planeta en el perihelio en metros sobre segundo 1e4\n",
      "La distancia del planeta en el afelio es 1e+10 metros\n",
      "La velocidad del planeta en el afelio es 1e+04 metros sobre segundos\n",
      "El periodo de orbitacion del planeta es 6.3e+06 segundos\n",
      "La excentricidad de la orbita del planeta es 0 \n"
     ]
    }
   ],
   "source": [
    "l1 = input(\"Dame la distancia al sol del perihelio en metros \")\n",
    "v1 = input(\"Dame la velocidad linear del planeta en el perihelio en metros sobre segundo \")\n",
    "try:\n",
    "    l1 = float(l1)\n",
    "    v1 = float(v1)\n",
    "    v2 = velAfelio(l1,v1)\n",
    "    l2 = distAfelio(v2,l1,v1)\n",
    "    T = Periodo(l1,v1,l2)\n",
    "    e = excentricidad(l1,l2)\n",
    "    print(\"La distancia del planeta en el afelio es %.2g metros\" %l2)\n",
    "    print(\"La velocidad del planeta en el afelio es %.2g metros sobre segundos\" %v2)\n",
    "    print(\"El periodo de orbitacion del planeta es %.2g segundos\" %T)\n",
    "    print(\"La excentricidad de la orbita del planeta es %.2g \" %e)\n",
    "except:\n",
    "    print(\"No introdujiste numeros\")"
   ]
  },
  {
   "cell_type": "markdown",
   "metadata": {},
   "source": [
    "**c)** Prueba tu programa haciendo que calcule las propiedades de las órbitas de la Tierra (para las cuales $\\ell_1=1.4710\\times10^{11}\\,$m y $v_1=3.0287\\times10^4\\,\\mathrm{m\\,s^{-1}}$)  y del cometa Halley ($\\ell_1=8.7830\\times10^{10}\\,$m y $v_1=5.4529\\times10^4\\,\\mathrm{m\\,s^{-1}}$). Entre otras cosas, deberías encontrar que el período orbital de la Tierra es de un año y el del cometa Halley es de unos 76 años."
   ]
  },
  {
   "cell_type": "code",
   "execution_count": 16,
   "metadata": {},
   "outputs": [
    {
     "name": "stdout",
     "output_type": "stream",
     "text": [
      "La distancia de la tierra en el afelio es 1.5e+11 metros\n",
      "La velocidad de la tierra en el afelio es 2.9e+04 metros sobre segundos\n",
      "El periodo de orbitacion de la tierra es 1.00 años\n",
      "La excentricidad de la orbita de la tierra es 0.016 \n"
     ]
    }
   ],
   "source": [
    "l1t = 1.4710e11\n",
    "v1t = 3.0287e4\n",
    "v2t = velAfelio(l1t,v1t)\n",
    "l2t = distAfelio(v2t,l1t,v1t)\n",
    "Tt = Periodo(l1t,v1t,l2t) / (365*24*60*60)\n",
    "et = excentricidad(l1t,l2t)\n",
    "print(\"La distancia de la tierra en el afelio es %.2g metros\" %l2t)\n",
    "print(\"La velocidad de la tierra en el afelio es %.2g metros sobre segundos\" %v2t)\n",
    "print(\"El periodo de orbitacion de la tierra es %.2f años\" %Tt)\n",
    "print(\"La excentricidad de la orbita de la tierra es %.2g \" %et)"
   ]
  },
  {
   "cell_type": "code",
   "execution_count": 17,
   "metadata": {},
   "outputs": [
    {
     "name": "stdout",
     "output_type": "stream",
     "text": [
      "La distancia del cometa Halley en el afelio es 5.3e+12 metros\n",
      "La velocidad del cometa Halley en el afelio es 9.1e+02 metros sobre segundos\n",
      "El periodo de orbitacion del cometa Halley es 76.08 años\n",
      "La excentricidad de la orbita del Halley es 0.97 \n"
     ]
    }
   ],
   "source": [
    "l1h = 8.7830e10\n",
    "v1h = 5.4529e4\n",
    "v2h = velAfelio(l1h,v1h)\n",
    "l2h = distAfelio(v2h,l1h,v1h)\n",
    "Th = Periodo(l1h,v1h,l2h) / (365*24*60*60)\n",
    "eh = excentricidad(l1h,l2h)\n",
    "print(\"La distancia del cometa Halley en el afelio es %.2g metros\" %l2h)\n",
    "print(\"La velocidad del cometa Halley en el afelio es %.2g metros sobre segundos\" %v2h)\n",
    "print(\"El periodo de orbitacion del cometa Halley es %.2f años\" %Th)\n",
    "print(\"La excentricidad de la orbita del Halley es %.2g \" %eh)"
   ]
  },
  {
   "cell_type": "markdown",
   "metadata": {},
   "source": [
    "**5. La fórmula semiempírica de la masa (FSM)**\n",
    "\n",
    "En física nuclear, la **fórmula de Weizsäcker** (conocida también como fórmula semiempírica) sirve para evaluar la masa y otras propiedades de un núcleo atómico; y está basada parcialmente en mediciones empíricas. En particular la fórmula se usa para calcular la \\textbf{\\textit{energía de enlace nuclear aproximada}} $B$, de un núcleo atómico con número atómico $Z$ y número de masa $A$:\n",
    "\n",
    "<h3 align=\"center\">$B = a_1 A - a_2 A^{2/3} - a_3 {Z^2\\over A^{1/3}} - a_4 {(A - 2Z)^2\\over A} + {a_5\\over A^{1/2}}$,</h3>\n",
    "\n",
    "donde, en unidades de millones de electrón-volts, las constantes son $a_1=15.8$, $a_2=18.3$, $a_3=0.714$, $a_4=23.2$ y          \n",
    "<h6 align=\"center\">\n",
    "$a_5 =\n",
    "  \\left \\{\n",
    "    \\begin{aligned}\n",
    "      0 & \\; \\text{si} \\ A \\; \\text{es impar,} \\\\\n",
    "      12.0 & \\; \\text{si} \\ A \\; \\text{y} \\; Z \\; \\text{son pares (ambos),} \\\\\n",
    "      -12.0 & \\; \\text{si} \\ A \\; \\text{es par y} \\; Z \\; \\text{impar}\n",
    "    \\end{aligned}\n",
    "  \\right.\n",
    "$\n",
    "</h6>"
   ]
  },
  {
   "cell_type": "markdown",
   "metadata": {},
   "source": [
    "**a)** Escribe un programa que tome como entrada los valores de $A$ y $Z$, e imprima la energía de enlace $B$ para el átomo correspondiente. Usa tu programa para encontrar la energía de enlace de un átomo con $A=58$ y $Z=28$ (Hint: La respuesta correcta es alrededor de los $490\\,$MeV)."
   ]
  },
  {
   "cell_type": "code",
   "execution_count": 18,
   "metadata": {},
   "outputs": [],
   "source": [
    "def energia(A,Z):\n",
    "    a = [15.8,18.3,0.714,23.2]\n",
    "    if A%2 == 1:\n",
    "        a.append(0)\n",
    "    elif Z%2 == 0:\n",
    "        a.append(12.0)\n",
    "    else:\n",
    "        a.append(-12.0)\n",
    "    return(a[0]*A - a[1]*(A**(2/3)) - a[2]*(Z**2)/(A**(1/3)) - a[3]*((A - 2*Z)**2)/A + a[4]/(A**(1/2)))"
   ]
  },
  {
   "cell_type": "code",
   "execution_count": 19,
   "metadata": {},
   "outputs": [
    {
     "name": "stdout",
     "output_type": "stream",
     "text": [
      "La energía de enlace nuclear aproximada para un atomo con A = 58 y Z = 28 es 497.56 MeV\n"
     ]
    }
   ],
   "source": [
    "print(\"La energía de enlace nuclear aproximada para un atomo con A = 58 y Z = 28 es %.2f MeV\" %energia(58,28))"
   ]
  },
  {
   "cell_type": "markdown",
   "metadata": {},
   "source": [
    "**b)** Modifica el programa del inciso anterior, para escribir una segunda versión que imprima no la energía de enlace total $B$, sino la energía de unión por nucleón, que es $B/A$."
   ]
  },
  {
   "cell_type": "code",
   "execution_count": 20,
   "metadata": {},
   "outputs": [],
   "source": [
    "def energiaNucleon(A,Z):\n",
    "    return(energia(A,Z)/A)"
   ]
  },
  {
   "cell_type": "code",
   "execution_count": 21,
   "metadata": {},
   "outputs": [
    {
     "name": "stdout",
     "output_type": "stream",
     "text": [
      "La energía de unión por nucleón para A = 58 y Z = 28 es 8.58 MeV\n"
     ]
    }
   ],
   "source": [
    "print(\"La energía de unión por nucleón para A = 58 y Z = 28 es %.2f MeV\" %energiaNucleon(58,28))"
   ]
  },
  {
   "cell_type": "markdown",
   "metadata": {},
   "source": [
    "**c)** Escribe una tercera versión del programa para que tome como entrada solo un valor del número atómico $Z$ y luego pase por todos los valores de $A$ desde $A=Z$ hasta $A=3Z$, para encontrar el que tiene la mayor energía de enlace por nucleón . Este es el núcleo más estable con el número atómico dado. Haz que tu programa imprima el valor de $A$ para este núcleo más estable y el valor de la energía de enlace por nucleón."
   ]
  },
  {
   "cell_type": "code",
   "execution_count": 22,
   "metadata": {},
   "outputs": [],
   "source": [
    "def estable(Z):\n",
    "    R = [Z,energiaNucleon(Z,Z)]\n",
    "    for i in range(Z, 3*Z +1):\n",
    "        E = energiaNucleon(i,Z)\n",
    "        if R[1] <= E:\n",
    "            R = [i,E]\n",
    "    return R"
   ]
  },
  {
   "cell_type": "code",
   "execution_count": 23,
   "metadata": {},
   "outputs": [
    {
     "name": "stdout",
     "output_type": "stream",
     "text": [
      "El nucleo más estable para un atomo de Z = 28 tiene un valor de A de 62.00\n",
      "y una energía de enlace por nucleón 8.70\n"
     ]
    }
   ],
   "source": [
    "Nucleo = estable(28)\n",
    "print(\"El nucleo más estable para un atomo de Z = 28 tiene un valor de A de %.2f\" %Nucleo[0])\n",
    "print(\"y una energía de enlace por nucleón %.2f\" %Nucleo[1])"
   ]
  },
  {
   "cell_type": "markdown",
   "metadata": {},
   "source": [
    "**d)** Finalmente, escribe una cuarta versión del programa que, en lugar de tomar $Z$ como entrada, se ejecute a través de todos los valores de $Z$ de 1 a 100 e imprima el valor más estable de $A$ para cada uno. ¿A qué valor de $Z$ se produce la energía de enlace máxima por nucleón? (La respuesta correcta, en la vida real, es $Z=28$, que corresponde al Níquel)."
   ]
  },
  {
   "cell_type": "code",
   "execution_count": 24,
   "metadata": {},
   "outputs": [],
   "source": [
    "def atomico():\n",
    "    maxim = [1,estable(1)[1]]\n",
    "    for i in range(1,101):\n",
    "        e = estable(i)\n",
    "        print(i, e[0])\n",
    "        if maxim[1] <= e[1]:\n",
    "            maxim = [i,e[1]]\n",
    "    return maxim"
   ]
  },
  {
   "cell_type": "code",
   "execution_count": 25,
   "metadata": {},
   "outputs": [
    {
     "name": "stdout",
     "output_type": "stream",
     "text": [
      "Por cada valor de Z, el valor de A es el siguiente\n",
      "1 3\n",
      "2 4\n",
      "3 7\n",
      "4 8\n",
      "5 11\n",
      "6 14\n",
      "7 15\n",
      "8 18\n",
      "9 19\n",
      "10 22\n",
      "11 25\n",
      "12 26\n",
      "13 29\n",
      "14 30\n",
      "15 33\n",
      "16 36\n",
      "17 37\n",
      "18 40\n",
      "19 43\n",
      "20 44\n",
      "21 47\n",
      "22 48\n",
      "23 51\n",
      "24 54\n",
      "25 55\n",
      "26 58\n",
      "27 61\n",
      "28 62\n",
      "29 65\n",
      "30 68\n",
      "31 69\n",
      "32 72\n",
      "33 75\n",
      "34 76\n",
      "35 79\n",
      "36 82\n",
      "37 85\n",
      "38 86\n",
      "39 89\n",
      "40 92\n",
      "41 93\n",
      "42 96\n",
      "43 99\n",
      "44 102\n",
      "45 103\n",
      "46 106\n",
      "47 109\n",
      "48 110\n",
      "49 113\n",
      "50 116\n",
      "51 119\n",
      "52 120\n",
      "53 123\n",
      "54 126\n",
      "55 129\n",
      "56 130\n",
      "57 133\n",
      "58 136\n",
      "59 139\n",
      "60 140\n",
      "61 143\n",
      "62 146\n",
      "63 149\n",
      "64 150\n",
      "65 153\n",
      "66 156\n",
      "67 159\n",
      "68 162\n",
      "69 163\n",
      "70 166\n",
      "71 169\n",
      "72 172\n",
      "73 175\n",
      "74 176\n",
      "75 179\n",
      "76 182\n",
      "77 185\n",
      "78 188\n",
      "79 191\n",
      "80 192\n",
      "81 195\n",
      "82 198\n",
      "83 201\n",
      "84 204\n",
      "85 205\n",
      "86 208\n",
      "87 211\n",
      "88 214\n",
      "89 217\n",
      "90 220\n",
      "91 223\n",
      "92 224\n",
      "93 227\n",
      "94 230\n",
      "95 233\n",
      "96 236\n",
      "97 239\n",
      "98 242\n",
      "99 243\n",
      "100 246\n",
      "El valor de Z mas estable es 28\n"
     ]
    }
   ],
   "source": [
    "print(\"Por cada valor de Z, el valor de A es el siguiente\")\n",
    "fin = atomico()\n",
    "print(\"El valor de Z mas estable es %i\" %fin[0])"
   ]
  }
 ],
 "metadata": {
  "kernelspec": {
   "display_name": "Python 3 (ipykernel)",
   "language": "python",
   "name": "python3"
  },
  "language_info": {
   "codemirror_mode": {
    "name": "ipython",
    "version": 3
   },
   "file_extension": ".py",
   "mimetype": "text/x-python",
   "name": "python",
   "nbconvert_exporter": "python",
   "pygments_lexer": "ipython3",
   "version": "3.9.5"
  }
 },
 "nbformat": 4,
 "nbformat_minor": 4
}
